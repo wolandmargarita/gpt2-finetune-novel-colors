{
  "cells": [
    {
      "cell_type": "markdown",
      "metadata": {
        "id": "view-in-github",
        "colab_type": "text"
      },
      "source": [
        "<a href=\"https://colab.research.google.com/github/wolandmargarita/gpt2-finetune-novel-colors/blob/main/generate_new_colors.ipynb\" target=\"_parent\"><img src=\"https://colab.research.google.com/assets/colab-badge.svg\" alt=\"Open In Colab\"/></a>"
      ]
    },
    {
      "cell_type": "code",
      "execution_count": null,
      "metadata": {
        "id": "ZgBDSurfbsHr"
      },
      "outputs": [],
      "source": [
        "from google.colab import drive\n",
        "drive.mount('/content/drive')"
      ]
    },
    {
      "cell_type": "code",
      "execution_count": null,
      "metadata": {
        "id": "8r7Cts2YR-Ps"
      },
      "outputs": [],
      "source": [
        "import nltk\n",
        "import random\n",
        "import pandas as pd\n",
        "import matplotlib.pyplot as plt\n",
        "import torch\n",
        "import torch.nn as nn\n",
        "import torch.optim as optim\n",
        "import matplotlib.patches as patches\n",
        "import transformers\n",
        "import re\n",
        "from transformers import GPT2Tokenizer, GPT2Model, GPT2LMHeadModel, AdamW, GPT2Config\n",
        "from torch.utils.data import DataLoader, Dataset\n",
        "from google.colab import userdata"
      ]
    },
    {
      "cell_type": "code",
      "execution_count": null,
      "metadata": {
        "id": "X4A72qn7czoD"
      },
      "outputs": [],
      "source": [
        "# Replace this environment variable with a dataset of your choosing to fine tune the checkpoint further\n",
        "# This GPT2 model was initially trained using https://www.kaggle.com/datasets/avi1023/color-names\n",
        "\n",
        "COLOR_NAMES_DS = userdata.get('COLOR_NAMES_DS')\n",
        "\n",
        "# Get the color names dataset\n",
        "df = pd.read_csv(COLOR_NAMES_DS)\n",
        "\n",
        "# This is the name of the model at https://huggingface.co/womag/gpt2-finetune-novel-colors\n",
        "\n",
        "model_name = 'womag/gpt2-finetune-novel-colors'\n",
        "\n",
        "# Load the tokenizer\n",
        "tokenizer = GPT2Tokenizer.from_pretrained(model_name)\n",
        "\n",
        "# Load the model\n",
        "model = GPT2Model.from_pretrained(model_name)"
      ]
    },
    {
      "cell_type": "code",
      "execution_count": null,
      "metadata": {
        "colab": {
          "base_uri": "https://localhost:8080/",
          "height": 321
        },
        "id": "95_V7VaXBQvv",
        "outputId": "134f1dce-bd6a-4b26-99e8-fb4d8e208712"
      },
      "outputs": [
        {
          "output_type": "display_data",
          "data": {
            "text/plain": [
              "<Figure size 2000x400 with 20 Axes>"
            ],
            "image/png": "[encoded data removed]"
          },
          "metadata": {}
        }
      ],
      "source": [
        "# Create a figure and a grid of subplots\n",
        "fig, axs = plt.subplots(2, 10, figsize=(20, 4))\n",
        "\n",
        "# Flatten the array of axes to make it easier to iterate over\n",
        "axs = axs.flatten()\n",
        "\n",
        "# Iterate over the first 20 colors in your dataframe\n",
        "for i in range(20):\n",
        "    name = df.iat[i, 0]  # Color name\n",
        "    hex = df.iat[i, 1]   # Hex code\n",
        "\n",
        "    # Add a colored square, here we just use add_patch to add a rectangle\n",
        "    axs[i].add_patch(patches.Rectangle((0, 0), 1, 1, color=hex))\n",
        "\n",
        "    # Add the color name as text underneath\n",
        "    axs[i].text(0.5, -0.2, name, ha='center', va='top', fontsize=10, transform=axs[i].transAxes)\n",
        "\n",
        "    # Remove the axes (so we only see the square)\n",
        "    axs[i].set_axis_off()\n",
        "\n",
        "# Adjust layout to prevent overlap\n",
        "plt.tight_layout()\n",
        "\n",
        "# Show the plot\n",
        "plt.show()"
      ]
    },
    {
      "cell_type": "code",
      "execution_count": null,
      "metadata": {
        "id": "J2hPDud5kYCc"
      },
      "outputs": [],
      "source": [
        "class GenerateColorsModel(torch.nn.Module):\n",
        "    def __init__(self, model_path=None, model_name='gpt2', tokenizer_name='gpt2', dropout=0.1, attention_dropout=0.1):\n",
        "        super(GenerateColorsModel, self).__init__()\n",
        "        self.tokenizer = GPT2Tokenizer.from_pretrained(tokenizer_name)\n",
        "        # Add any special tokens if needed\n",
        "\n",
        "        # Correctly reference self.tokenizer to set the pad_token\n",
        "        self.tokenizer.pad_token = self.tokenizer.eos_token\n",
        "\n",
        "        if model_path:\n",
        "            # It's critical to load the model and then adjust the token embedding sizes to match the tokenizer\n",
        "            self.model = self.load_model_from_chkpt(model_path, model_name)\n",
        "\n",
        "            # Ensure the model's token embeddings are correctly sized to match the tokenizer\n",
        "            self.model.resize_token_embeddings(len(self.tokenizer))\n",
        "        else:\n",
        "            # Load a fresh model with the possibility to adjust its config\n",
        "            self.config = GPT2Config.from_pretrained(model_name, dropout=dropout, attention_dropout=attention_dropout)\n",
        "            self.model = GPT2LMHeadModel.from_pretrained(model_name, config=self.config)\n",
        "\n",
        "        # Resize token embeddings - Necessary if you've added special tokens\n",
        "        self.model.resize_token_embeddings(len(self.tokenizer))\n",
        "\n",
        "    # Method to switch the underlying PyTorch model to evaluation mode\n",
        "    def to_eval_mode(self):\n",
        "        self.model.eval()\n",
        "\n",
        "    def prepare_data_loader(self, formatted_data, batch_size=32):\n",
        "        encodings = self.tokenizer(formatted_data, truncation=True, max_length=50, padding=True, return_tensors='pt')\n",
        "        dataset = ColorDataSet(encodings)\n",
        "        return DataLoader(dataset, batch_size=batch_size, shuffle=True)\n",
        "\n",
        "    def load_model_from_chkpt(self, model_save_path, model_name):\n",
        "        # Load model architecture first\n",
        "\n",
        "        model = GPT2LMHeadModel.from_pretrained(model_name)\n",
        "\n",
        "        # Load the checkpoint\n",
        "        checkpoint = torch.load(model_save_path, map_location=torch.device('cpu'))\n",
        "\n",
        "        # Apply the state dictionary to the model\n",
        "        model.load_state_dict(checkpoint, strict=False)  # Use strict=False to ignore non-matching keys\n",
        "\n",
        "        return model\n",
        "\n",
        "    def generate_color_names(self, prompt_text, max_length=100, temperature=1.2, top_k=100, num_return_sequences=20):\n",
        "\n",
        "        # Set the model to evaluation mode\n",
        "        self.model.eval()\n",
        "\n",
        "        # Encode the prompt text to tensor\n",
        "        encoded_prompt = self.tokenizer.encode(prompt_text, add_special_tokens=False, return_tensors=\"pt\")\n",
        "\n",
        "        # Generate a sequence of tokens after the prompt\n",
        "        output_seq = self.model.generate(\n",
        "            input_ids=encoded_prompt,\n",
        "            max_length=max_length,\n",
        "            temperature=temperature,\n",
        "            top_k=top_k,\n",
        "            do_sample=True,  # Enable sampling MUST BE True\n",
        "            num_return_sequences=num_return_sequences,\n",
        "            pad_token_id=self.tokenizer.eos_token_id,  # Explicitly set pad_token_id\n",
        "            no_repeat_ngram_size=2\n",
        "        )\n",
        "\n",
        "        # Decode the tokens back into text\n",
        "        generated_text = []\n",
        "\n",
        "        for generated_sequence in output_seq:\n",
        "            text = self.tokenizer.decode(generated_sequence, skip_special_tokens=True)\n",
        "            generated_text.append(text[len(prompt_text):].strip())\n",
        "\n",
        "        return generated_text\n",
        "\n",
        "\n",
        "    def train(self, formatted_data, model_save_path, num_epochs=2, learning_rate=0.0005, weight_decay=0.01):\n",
        "\n",
        "        data_loader = self.prepare_data_loader(formatted_data, batch_size=32)\n",
        "        optimizer = optim.AdamW(self.model.parameters(), lr=learning_rate, weight_decay=weight_decay)\n",
        "\n",
        "        self.model.train()\n",
        "        for epoch in range(num_epochs):\n",
        "            for batch_num, batch in enumerate(data_loader, start=1):\n",
        "                inputs, labels = batch['input_ids'], batch['input_ids']\n",
        "                optimizer.zero_grad()\n",
        "                outputs = self.model(inputs, labels=labels)\n",
        "                loss = outputs.loss\n",
        "                loss.backward()\n",
        "                optimizer.step()\n",
        "\n",
        "                print(f'Epoch: {epoch}, Batch: {batch_num}, Loss: {loss.item()}')\n",
        "\n",
        "        # Save the model\n",
        "        torch.save(self.model.state_dict(), model_save_path)\n",
        "        print(f\"Model successfully saved at {model_save_path}\")\n",
        "\n",
        "\n",
        "    def correct_hex_value(self, hex_value):\n",
        "        # This regex matches well-formed hex values\n",
        "        hex_regex = re.compile(r'^#([0-9A-Fa-f]{6})$')\n",
        "\n",
        "        # Check if the hex value is well-formed\n",
        "        if hex_regex.match(hex_value):\n",
        "            return hex_value  # Return as is if well-formed\n",
        "\n",
        "        # Strip leading '#' if present\n",
        "        hex_value = hex_value.lstrip('#')\n",
        "\n",
        "        # Truncate if longer than 6 characters or pad with '0' if shorter\n",
        "        if len(hex_value) > 6:\n",
        "            corrected_hex = hex_value[:6]\n",
        "        else:\n",
        "            corrected_hex = hex_value.ljust(6, '0')\n",
        "\n",
        "        # Return the corrected hex value with '#' prefix\n",
        "        return '#' + corrected_hex\n",
        "\n",
        "    def format_colors_for_display(self, generated_color_names):\n",
        "        color_list = []\n",
        "        for color in generated_color_names:\n",
        "          components = color.split(',')\n",
        "          color_list.append(components)\n",
        "\n",
        "        color_dict = {}\n",
        "        for color in color_list:\n",
        "            color_name = color[0].strip()\n",
        "            hex_value = color[1].split(':')[1].strip()\n",
        "            hex_value = self.correct_hex_value(hex_value)\n",
        "            color_dict[color_name] = hex_value\n",
        "\n",
        "        return color_dict\n",
        "\n",
        "    def display_colors(self, generated_color_names):\n",
        "\n",
        "        color_dict = self.format_colors_for_display(generated_color_names)\n",
        "        # Create a figure and a grid of subplots\n",
        "        fig, axs = plt.subplots(2, 10, figsize=(20, 4))\n",
        "\n",
        "        # Flatten the array of axes to make it easier to iterate over\n",
        "        axs = axs.flatten()\n",
        "\n",
        "        # Iterate over the first 20 colors in your dataframe\n",
        "        for i, (name, color) in enumerate(color_dict.items()):\n",
        "\n",
        "            if i > 20:\n",
        "              break\n",
        "\n",
        "            # Add a colored square, here we just use add_patch to add a rectangle\n",
        "            axs[i].add_patch(patches.Rectangle((0, 0), 1, 1, color=color))\n",
        "\n",
        "            # Add the color name as text underneath\n",
        "            axs[i].text(0.5, -0.2, name, ha='center', va='top', fontsize=10, transform=axs[i].transAxes)\n",
        "\n",
        "            # Remove the axes (so we only see the square)\n",
        "            axs[i].set_axis_off()\n",
        "\n",
        "        # Adjust layout to prevent overlap\n",
        "        plt.tight_layout()\n",
        "\n",
        "        # Show the plot\n",
        "        plt.show()\n",
        "\n",
        "class ColorDataSet(Dataset):\n",
        "    def __init__(self, encodings):\n",
        "        self.encodings = encodings\n",
        "\n",
        "    def __len__(self):\n",
        "        return len(self.encodings.input_ids)\n",
        "\n",
        "    def __getitem__(self, idx):\n",
        "        return {key: torch.tensor(val[idx]) for key, val in self.encodings.items()}\n"
      ]
    },
    {
      "cell_type": "code",
      "source": [
        "# Stringify the new data to pass to the tokenizer\n",
        "dataframe_as_string = df.apply(lambda x: f\"Color: {x['Name']}, Hex: {x['Hex (24 bit)']}, Red: {x['Red (8 bit)']}, Green: {x['Green (8 bit)']}, Blue: {x['Blue (8 bit)']}, Hue: {x['Hue (degrees)']}, HSL.S: {x['HSL.S (%)']}, Shade: {x['HSL.L (%), HSV.S (%), HSV.V (%)']}\", axis=1).tolist()\n"
      ],
      "metadata": {
        "id": "6pPl-YpFJrHb"
      },
      "execution_count": null,
      "outputs": []
    },
    {
      "cell_type": "code",
      "source": [
        "#TRAINING\n",
        "\n",
        "# Assumes to start training from a checkpoint\n",
        "model = GenerateColorsModel()\n",
        "\n",
        "model.train(dataframe_as_string, model_path)"
      ],
      "metadata": {
        "id": "rIiCJlvaUQDb"
      },
      "execution_count": null,
      "outputs": []
    },
    {
      "cell_type": "code",
      "source": [
        "model = GenerateColorsModel(model_path=model_path)"
      ],
      "metadata": {
        "id": "4k57mgaLloJr"
      },
      "execution_count": null,
      "outputs": []
    },
    {
      "cell_type": "code",
      "source": [
        "# Prompt the model to generate new colors\n",
        "\n",
        "prompt_text = \"Name:\"  # Adjust the prompt as needed\n",
        "\n",
        "# Run inference on the model\n",
        "generated_color_names = model.generate_color_names(prompt_text)\n",
        "\n",
        "model.display_colors(generated_color_names)\n"
      ],
      "metadata": {
        "colab": {
          "base_uri": "https://localhost:8080/",
          "height": 216
        },
        "id": "KG0c6z4AHyG8",
        "outputId": "320201ec-7435-44dd-df83-24d96f1fc322"
      },
      "execution_count": null,
      "outputs": [
        {
          "output_type": "error",
          "ename": "NameError",
          "evalue": "name 'model' is not defined",
          "traceback": [
            "\u001b[0;31m---------------------------------------------------------------------------\u001b[0m",
            "\u001b[0;31mNameError\u001b[0m                                 Traceback (most recent call last)",
            "\u001b[0;32m<ipython-input-1-385bc09ad087>\u001b[0m in \u001b[0;36m<cell line: 6>\u001b[0;34m()\u001b[0m\n\u001b[1;32m      4\u001b[0m \u001b[0;34m\u001b[0m\u001b[0m\n\u001b[1;32m      5\u001b[0m \u001b[0;31m# Run inference on the model\u001b[0m\u001b[0;34m\u001b[0m\u001b[0;34m\u001b[0m\u001b[0m\n\u001b[0;32m----> 6\u001b[0;31m \u001b[0mgenerated_color_names\u001b[0m \u001b[0;34m=\u001b[0m \u001b[0mmodel\u001b[0m\u001b[0;34m.\u001b[0m\u001b[0mgenerate_color_names\u001b[0m\u001b[0;34m(\u001b[0m\u001b[0mprompt_text\u001b[0m\u001b[0;34m)\u001b[0m\u001b[0;34m\u001b[0m\u001b[0;34m\u001b[0m\u001b[0m\n\u001b[0m\u001b[1;32m      7\u001b[0m \u001b[0;34m\u001b[0m\u001b[0m\n\u001b[1;32m      8\u001b[0m \u001b[0mmodel\u001b[0m\u001b[0;34m.\u001b[0m\u001b[0mdisplay_colors\u001b[0m\u001b[0;34m(\u001b[0m\u001b[0mgenerated_color_names\u001b[0m\u001b[0;34m)\u001b[0m\u001b[0;34m\u001b[0m\u001b[0;34m\u001b[0m\u001b[0m\n",
            "\u001b[0;31mNameError\u001b[0m: name 'model' is not defined"
          ]
        }
      ]
    }
  ],
  "metadata": {
    "colab": {
      "provenance": [],
      "authorship_tag": "ABX9TyPzNtdzMU4L1C4WsejHzxIf",
      "include_colab_link": true
    },
    "kernelspec": {
      "display_name": "Python 3",
      "name": "python3"
    },
    "language_info": {
      "name": "python"
    }
  },
  "nbformat": 4,
  "nbformat_minor": 0
}